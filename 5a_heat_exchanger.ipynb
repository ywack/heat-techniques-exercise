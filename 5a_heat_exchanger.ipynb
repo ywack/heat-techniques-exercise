{
 "cells": [
  {
   "cell_type": "markdown",
   "metadata": {},
   "source": [
    "# Tapping into geothermal heat by using in a counter-flow Heat Exchanger\n",
    "\n",
    "Inspired by <cite>Cengel, Turner: Heat Transfer</cite>\n",
    "\n",
    "Lets A counter-flow double-pipe heat exchanger is heating water from $20~°C$ to $70~°C$\n",
    "at a rate of $1.1~kg/s$. The heating is accomplished by using water from a geothermal well\n",
    "available at $150~°C$ at a mass flow rate of $1.8~kg/s$. The heat exchangers inner tube has a diameter of 1.3 cm. Lets assume that the heat transfer coefficient of the heat\n",
    "exchanger is $600~W/m^2°C$. What heat exchanger length is necessary\n",
    "to achieve the desired heating?\n",
    "\n",
    "![Heat Exchanger](Images/CounterflowHX.svg)\n",
    "\n",
    "## Packages"
   ]
  },
  {
   "cell_type": "code",
   "execution_count": 62,
   "metadata": {},
   "outputs": [],
   "source": [
    "import numpy as np\n",
    "import matplotlib.pyplot as plt\n",
    "from ipywidgets import interactive"
   ]
  },
  {
   "cell_type": "markdown",
   "metadata": {},
   "source": [
    "## Properties"
   ]
  },
  {
   "cell_type": "code",
   "execution_count": 63,
   "metadata": {},
   "outputs": [],
   "source": [
    "U = 600\n",
    "D = 0.013"
   ]
  },
  {
   "cell_type": "markdown",
   "metadata": {},
   "source": [
    "### Cooling water"
   ]
  },
  {
   "cell_type": "code",
   "execution_count": 64,
   "metadata": {},
   "outputs": [],
   "source": [
    "mWater = 1.1\n",
    "cpWater = 4.18\n",
    "TinWater  = 20\n",
    "ToutWater = 70"
   ]
  },
  {
   "cell_type": "markdown",
   "metadata": {},
   "source": [
    "### Hot geothermal water"
   ]
  },
  {
   "cell_type": "code",
   "execution_count": 65,
   "metadata": {},
   "outputs": [],
   "source": [
    "mGeo = 1.8\n",
    "cpGeo = 4.31\n",
    "TinGeo = 150"
   ]
  },
  {
   "cell_type": "markdown",
   "metadata": {},
   "source": [
    "## 1. Determine the necessary Heat Exchanger length\n",
    "\n",
    "### Logarithmic mean temperature difference\n",
    "The logarithmic mean temperature difference $LMTD$ is defined as\n",
    "\n",
    "\\\\[LMTD = \\frac{\\Delta T_1 - \\Delta T_2}{\\ln \\left(\\frac{\\Delta T_1}{\\Delta T_2}\\right)}\\\\]\n"
   ]
  },
  {
   "cell_type": "code",
   "execution_count": 66,
   "metadata": {},
   "outputs": [
    {
     "name": "stdout",
     "output_type": "stream",
     "text": [
      "The necessary Heat Exchanger length is: 104.48 m \n"
     ]
    }
   ],
   "source": [
    "Q = mWater * cpWater * (ToutWater - TinWater)\n",
    "ToutGeo = TinGeo - Q / (mGeo * cpGeo)\n",
    "\n",
    "dT1 = TinGeo - ToutWater\n",
    "dT2 = ToutGeo - TinWater\n",
    "\n",
    "def LMTD(dT1,dT2):\n",
    "    LMTD = (dT1 - dT2) / np.log(dT1 / dT2)\n",
    "    return LMTD\n",
    "\n",
    "A = (Q * 1000) / (U * LMTD(dT1,dT2)) #Q is given in kW\n",
    "L = A / (np.pi*D)\n",
    "\n",
    "print(\"The necessary Heat Exchanger length is: {length:.2f} m \".format(length = L))"
   ]
  },
  {
   "cell_type": "markdown",
   "metadata": {},
   "source": [
    "## Analyse heat exchanger"
   ]
  },
  {
   "cell_type": "code",
   "execution_count": 67,
   "metadata": {},
   "outputs": [],
   "source": [
    "def QHX(Th1,Th2,Tc1,Tc2,U,A,strType):\n",
    "    if strType == \"counterflow\":\n",
    "        dT1 = Th1 - Tc2\n",
    "        dT2 = Th2 - Tc1\n",
    "    elif strType == \"parallelflow\":\n",
    "        dT1 = Th1 - Tc1\n",
    "        dT2 = Th2 - Tc2\n",
    "    Q = U * A * LMTD(dT1,dT2)\n",
    "    return Q"
   ]
  },
  {
   "cell_type": "code",
   "execution_count": 70,
   "metadata": {},
   "outputs": [],
   "source": [
    "def analyse_HX(TinWater):\n",
    "    Qcf = QHX(np.linspace(ToutWater+0.001,TinGeo+40),ToutGeo,TinWater,ToutWater,U,A,\"counterflow\")\n",
    "    Qpf = QHX(np.linspace(TinWater+0.001,TinGeo+40),ToutGeo,TinWater,ToutWater,U,A,\"parallelflow\")\n",
    "\n",
    "    plt.plot(np.linspace(ToutWater,TinGeo+40),Qcf/1000,label =\"counterflow\")\n",
    "    plt.plot(np.linspace(TinWater,TinGeo+40),Qpf/1000,label = \"parallelflow\")\n",
    "    \n",
    "    plt.plot([TinGeo,TinGeo],[0,400],'r--')\n",
    "    \n",
    "    plt.xlim(0,TinGeo+40)\n",
    "    plt.xlabel(\"$T_{in}$ hot water\")\n",
    "    plt.ylim(0,300)\n",
    "    plt.ylabel(\"Q Heat transfered\")\n",
    "    plt.legend()"
   ]
  },
  {
   "cell_type": "markdown",
   "metadata": {},
   "source": [
    "### Comparing counterflow and parallel flow heat exchanger performance\n",
    "\n",
    "Lets compare the heat exchanger performance for counter- and parallel flow heat exchangers for different cold water inflow temperatures $T_{in}$."
   ]
  },
  {
   "cell_type": "code",
   "execution_count": 74,
   "metadata": {},
   "outputs": [
    {
     "data": {
      "application/vnd.jupyter.widget-view+json": {
       "model_id": "6e0c686b1a49493a873e3e3f264ef712",
       "version_major": 2,
       "version_minor": 0
      },
      "text/plain": [
       "interactive(children=(IntSlider(value=20, description='TinWater', max=40), Output()), _dom_classes=('widget-in…"
      ]
     },
     "metadata": {},
     "output_type": "display_data"
    }
   ],
   "source": [
    "plot = interactive(analyse_HX, TinWater=(0, 40))\n",
    "plot"
   ]
  },
  {
   "cell_type": "code",
   "execution_count": null,
   "metadata": {},
   "outputs": [],
   "source": []
  }
 ],
 "metadata": {
  "kernelspec": {
   "display_name": "Python 3 (ipykernel)",
   "language": "python",
   "name": "python3"
  },
  "language_info": {
   "codemirror_mode": {
    "name": "ipython",
    "version": 3
   },
   "file_extension": ".py",
   "mimetype": "text/x-python",
   "name": "python",
   "nbconvert_exporter": "python",
   "pygments_lexer": "ipython3",
   "version": "3.9.7"
  }
 },
 "nbformat": 4,
 "nbformat_minor": 4
}
