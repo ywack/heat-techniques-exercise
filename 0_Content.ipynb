{
 "cells": [
  {
   "cell_type": "markdown",
   "metadata": {},
   "source": [
    "# Warmtechnieken Exercise\n",
    "\n",
    "\n",
    "\n",
    "## Sessions\n",
    "\n",
    "1. Basic Heat transfer prodcesses (Conduction, Convection and Radiation)\n",
    "2. Combined Heat transfer\n",
    "3. Introduction to transient heat transfer I\n",
    "4. Introduction to transient heat transfer II\n",
    "5. Heat Exchangers\n",
    "6. Combustion\n",
    "7. ...To be determined\n",
    "\n"
   ]
  },
  {
   "cell_type": "code",
   "execution_count": null,
   "metadata": {},
   "outputs": [],
   "source": []
  }
 ],
 "metadata": {
  "kernelspec": {
   "display_name": "Python 3",
   "language": "python",
   "name": "python3"
  },
  "language_info": {
   "codemirror_mode": {
    "name": "ipython",
    "version": 3
   },
   "file_extension": ".py",
   "mimetype": "text/x-python",
   "name": "python",
   "nbconvert_exporter": "python",
   "pygments_lexer": "ipython3",
   "version": "3.7.3"
  }
 },
 "nbformat": 4,
 "nbformat_minor": 2
}
