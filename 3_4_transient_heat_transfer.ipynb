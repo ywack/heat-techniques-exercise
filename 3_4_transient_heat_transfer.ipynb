{
 "cells": [
  {
   "cell_type": "markdown",
   "metadata": {},
   "source": [
    "# 2-D diffusion equation\n",
    "Yannick Wack\n",
    "\n",
    "Inspired by [G. Nervadof](https://levelup.gitconnected.com/solving-2d-heat-equation-numerically-using-python-3334004aa01a)"
   ]
  },
  {
   "cell_type": "code",
   "execution_count": 15,
   "metadata": {},
   "outputs": [],
   "source": [
    "import heatmap\n",
    "import numpy as np\n",
    "import matplotlib.pyplot as plt\n",
    "from IPython.display import display, clear_output"
   ]
  },
  {
   "cell_type": "markdown",
   "metadata": {},
   "source": [
    "## General heat condution equation\n",
    "\\\\[\\frac{\\partial T}{\\partial t}=\\alpha \\Delta T  = \\alpha \\left(\\frac{\\partial^2 T}{\\partial x^2}+\\frac{\\partial^2 T}{\\partial y^2}\\right) \\quad \\mathrm{with} \\quad \\alpha = \\frac{k}{\\rho C}\\\\] \n",
    "## Spatial discretization\n",
    "We aproximate the 2nd order derivative \\\\(\\frac{\\partial^2 T}{\\partial x^2} \\& \\frac{\\partial^2 T}{\\partial y^2}\\\\) using a [second-order central difference](https://en.wikipedia.org/wiki/Finite_difference):\n",
    "\\\\[ u''(x) = \\frac{u(x+\\Delta x)-2u(x)+u(x-\\delta x)}{\\Delta x^2}\\\\]"
   ]
  },
  {
   "cell_type": "code",
   "execution_count": 16,
   "metadata": {},
   "outputs": [],
   "source": [
    "def deriv2_x(u,i,j,dx):\n",
    "    ddu = ( u[i+1,j]-2*u[i,j]+u[i-1,j] ) / dx**2\n",
    "    return ddu\n",
    "def deriv2_y(u,i,j,dx):\n",
    "    ddu = ( u[i,j+1]-2*u[i,j]+u[i,j-1] ) / dx**2\n",
    "    return ddu"
   ]
  },
  {
   "cell_type": "markdown",
   "metadata": {},
   "source": [
    "Now we can compute the right hand side \\\\(\\mathrm{RHS} = \\alpha \\left(\\frac{\\partial^2 T}{\\partial x^2}+\\frac{\\partial^2 T}{\\partial y^2}\\right) \\\\) of the heat equation in every point \\\\((i,j)\\\\) using this finite difference approximations:"
   ]
  },
  {
   "cell_type": "code",
   "execution_count": 17,
   "metadata": {},
   "outputs": [],
   "source": [
    "def rhs(T,alpha,dx):\n",
    "    sz = np.shape(T)\n",
    "    rhs = np.zeros(sz)\n",
    "    for i in range(1, sz[0]-1, 1):\n",
    "            for j in range(1, sz[1]-1, 1):\n",
    "                rhs[i,j] = alpha * (deriv2_x(T,i,j,dx) + deriv2_y(T,i,j,dx))\n",
    "    return rhs"
   ]
  },
  {
   "cell_type": "markdown",
   "metadata": {},
   "source": [
    "## Boundary conditions"
   ]
  },
  {
   "cell_type": "code",
   "execution_count": 18,
   "metadata": {},
   "outputs": [],
   "source": [
    "def set_boundaries(T,T_top,T_inf):\n",
    "    sz = np.shape(T)\n",
    "    T[-1:, int(sz[0]/4):int(sz[0]*3/4)] = T_top\n",
    "    T[ :, :1] = T_inf\n",
    "    T[ :1, :] = T_inf\n",
    "    T[ :, -1:] = T_inf\n",
    "    return T\n"
   ]
  },
  {
   "cell_type": "markdown",
   "metadata": {},
   "source": [
    "## Temporal discretization     "
   ]
  },
  {
   "cell_type": "code",
   "execution_count": 19,
   "metadata": {},
   "outputs": [],
   "source": [
    "def explicit_euler_step(T0,alpha,dt,dx):\n",
    "        T = T0 + dt * rhs(T0,alpha,dx)\n",
    "        return T"
   ]
  },
  {
   "cell_type": "markdown",
   "metadata": {},
   "source": [
    "## Computation\n",
    "### Parameters"
   ]
  },
  {
   "cell_type": "code",
   "execution_count": 37,
   "metadata": {},
   "outputs": [],
   "source": [
    "plate_length = 50\n",
    "alpha        = 2\n",
    "T_initial    = 0\n",
    "T_top        = 0\n",
    "T_inf        = 0\n",
    "time_steps   = 500\n",
    "dx = 1\n",
    "dt = (dx ** 2)/(4 * alpha)"
   ]
  },
  {
   "cell_type": "markdown",
   "metadata": {},
   "source": [
    "### Initialize solution on the grid for <code> T[k,i,j] <code>"
   ]
  },
  {
   "cell_type": "code",
   "execution_count": 38,
   "metadata": {},
   "outputs": [],
   "source": [
    "T = np.empty((time_steps, plate_length, plate_length))\n",
    "T.fill(T_initial)\n",
    "T[0,25,25] = 100\n",
    "T[0] = set_boundaries(T[0],T_top,T_inf)"
   ]
  },
  {
   "cell_type": "markdown",
   "metadata": {},
   "source": [
    "### Perform the calculation"
   ]
  },
  {
   "cell_type": "code",
   "execution_count": 39,
   "metadata": {},
   "outputs": [
    {
     "name": "stdout",
     "output_type": "stream",
     "text": [
      "Computation finished\n"
     ]
    }
   ],
   "source": [
    "for k in range(0, time_steps-1, 1):\n",
    "    T[k+1] = explicit_euler_step( T[k] ,alpha,dt,dx)\n",
    "    T[k+1] = set_boundaries(T[k+1],T_top,T_inf)\n",
    "print(\"Computation finished\")"
   ]
  },
  {
   "cell_type": "markdown",
   "metadata": {},
   "source": [
    "## Plotting"
   ]
  },
  {
   "cell_type": "code",
   "execution_count": 40,
   "metadata": {},
   "outputs": [
    {
     "data": {
      "image/png": "[encoded data removed]",
      "text/plain": [
       "<Figure size 432x288 with 5 Axes>"
      ]
     },
     "metadata": {
      "needs_background": "light"
     },
     "output_type": "display_data"
    }
   ],
   "source": [
    "snap = heatmap.snapshots()\n",
    "snap.plot(T,dt)"
   ]
  },
  {
   "cell_type": "code",
   "execution_count": 31,
   "metadata": {},
   "outputs": [
    {
     "data": {
      "image/png": "[encoded data removed]",
      "text/plain": [
       "<Figure size 432x288 with 2 Axes>"
      ]
     },
     "metadata": {},
     "output_type": "display_data"
    },
    {
     "name": "stdout",
     "output_type": "stream",
     "text": [
      "Done!\n"
     ]
    }
   ],
   "source": [
    "# Initialize plot\n",
    "hm = heatmap.heatmap(T[0])\n",
    "\n",
    "for k in range(0, time_steps-1, 10):\n",
    "    t = dt * k\n",
    "    \n",
    "    clear_output(wait = True)\n",
    "    hm.update(T[k],t)   \n",
    "    plt.pause(0.1)\n",
    "\n",
    "print(\"Done!\")"
   ]
  }
 ],
 "metadata": {
  "kernelspec": {
   "display_name": "Python 3",
   "language": "python",
   "name": "python3"
  },
  "language_info": {
   "codemirror_mode": {
    "name": "ipython",
    "version": 3
   },
   "file_extension": ".py",
   "mimetype": "text/x-python",
   "name": "python",
   "nbconvert_exporter": "python",
   "pygments_lexer": "ipython3",
   "version": "3.7.3"
  }
 },
 "nbformat": 4,
 "nbformat_minor": 2
}
